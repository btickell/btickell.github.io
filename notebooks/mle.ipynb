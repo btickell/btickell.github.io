{
 "cells": [
  {
   "cell_type": "code",
   "execution_count": 1,
   "metadata": {},
   "outputs": [],
   "source": [
    "import numpy as np"
   ]
  },
  {
   "cell_type": "code",
   "execution_count": 4,
   "metadata": {},
   "outputs": [
    {
     "data": {
      "text/plain": [
       "array([ 9, 16, 20, 18, 11, 15, 15, 15, 16, 13, 24, 15, 17, 24, 18, 10, 15,\n",
       "       14, 18, 15, 15, 16, 16, 14, 10,  9, 14, 25, 16, 18, 18, 11, 13, 13,\n",
       "       15, 21, 20, 10, 13, 11, 11, 12, 12, 15, 16, 15, 16, 13, 11, 13, 11,\n",
       "       11, 13, 20, 14, 12, 17, 16, 12, 15, 11, 17, 13, 14, 14, 15, 12, 17,\n",
       "       12, 18, 11, 11, 11, 20,  8, 10, 11, 15, 19, 23, 18, 18, 19,  9, 12,\n",
       "       19, 16, 23, 13, 15, 11, 16, 13, 11, 10, 16, 17, 19, 16, 11])"
      ]
     },
     "execution_count": 4,
     "metadata": {},
     "output_type": "execute_result"
    }
   ],
   "source": [
    "lam = 15\n",
    "np.random.poisson(15, size=(100))"
   ]
  },
  {
   "cell_type": "code",
   "execution_count": null,
   "metadata": {},
   "outputs": [],
   "source": []
  }
 ],
 "metadata": {
  "kernelspec": {
   "display_name": "Python 3",
   "language": "python",
   "name": "python3"
  },
  "language_info": {
   "codemirror_mode": {
    "name": "ipython",
    "version": 3
   },
   "file_extension": ".py",
   "mimetype": "text/x-python",
   "name": "python",
   "nbconvert_exporter": "python",
   "pygments_lexer": "ipython3",
   "version": "3.7.0"
  }
 },
 "nbformat": 4,
 "nbformat_minor": 2
}
